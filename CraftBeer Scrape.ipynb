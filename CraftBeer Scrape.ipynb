{
 "cells": [
  {
   "cell_type": "code",
   "execution_count": 23,
   "metadata": {},
   "outputs": [],
   "source": [
    "from splinter import Browser\n",
    "from bs4 import BeautifulSoup \n",
    "import time\n",
    "import numpy as np\n",
    "import pandas as pd"
   ]
  },
  {
   "cell_type": "code",
   "execution_count": 24,
   "metadata": {},
   "outputs": [],
   "source": [
    "executable_path = {'executable_path': '/usr/local/bin/chromedriver'}\n",
    "browser = Browser('chrome', headless=False)"
   ]
  },
  {
   "cell_type": "code",
   "execution_count": 26,
   "metadata": {},
   "outputs": [
    {
     "name": "stdout",
     "output_type": "stream",
     "text": [
      "No Values\n",
      "No Values\n",
      "No Values\n",
      "No Values\n",
      "                             name             city state rating\n",
      "153          Three Creeks Brewing          Sisters    OR  3.67)\n",
      "336       Big Sky Brewing Company         Missoula    MT  3.59)\n",
      "339              Wormtown Brewery        Worcester    MA  3.79)\n",
      "422                 Blue Dog Mead           Eugene    OR   2.9)\n",
      "481        7 Seas Brewing Company       Gig Harbor    WA       \n",
      "102   King Street Brewing Company        Anchorage    AK   3.7)\n",
      "37          Avery Brewing Company          Boulder    CO  3.89)\n",
      "329             The Bronx Brewery            Bronx    NY  3.55)\n",
      "140  Independence Brewing Company           Austin    TX  3.65)\n",
      "194          Goodlife Brewing Co.             Bend    OR  3.76)\n",
      "159         Uinta Brewing Company   Salt Lake City    UT  3.64)\n",
      "440       MillKing It Productions        Royal Oak    MI  3.37)\n",
      "506       Warbird Brewing Company       Fort Wayne    IN       \n",
      "381  Swashbuckler Brewing Company          Manheim    PA       \n",
      "75    Bent Paddle Brewing Company           Duluth    MN       \n",
      "236      Champion Brewing Company  Charlottesville    VA  3.59)\n",
      "485  MacTarnahans Brewing Company         Portland    OR  3.43)\n",
      "449                 TailGate Beer        San Diego    CA  3.65)\n",
      "66       Freetail Brewing Company      San Antonio    TX  3.71)\n",
      "445        Howard Brewing Company           Lenoir    NC  3.53)\n"
     ]
    }
   ],
   "source": [
    "# File to Load- obtain brewery csv\n",
    "file_to_load2 = \"breweries.csv\"\n",
    "\n",
    "#Make into dataframe\n",
    "brewery_pd = pd.read_csv(file_to_load2, encoding=\"utf-8\")\n",
    "brewery_pd.head()\n",
    "\n",
    "\n",
    "#Drop unnecessary columns. We want the brewery name\n",
    "brewery1_df = brewery_pd.drop(columns=['Unnamed: 0'])\n",
    "brewery1_df['rating'] = ''\n",
    "\n",
    "#Create a random sample of 20 breweries\n",
    "brewery2_df = brewery1_df.sample(20, random_state=0).copy()\n",
    "\n",
    "base_url = 'https://untappd.com/'\n",
    "\n",
    "\n",
    "for index, record in brewery2_df.iterrows():\n",
    "    try:\n",
    "        brewery = record['name']\n",
    "        search_url = base_url + f'search?q={brewery}&type=brewery&sort='\n",
    "        browser.visit(search_url)\n",
    "        html = browser.html\n",
    "        soup = BeautifulSoup(html, 'html.parser')\n",
    "        rating = soup.find('span', class_=\"num\").get_text()\n",
    "        brewery2_df.loc[index, 'rating'] = rating.strip(\"(\").strip(\")\")\n",
    "    except (AttributeError):\n",
    "        print('No Values')\n",
    "    \n",
    "print(brewery2_df)"
   ]
  },
  {
   "cell_type": "code",
   "execution_count": null,
   "metadata": {},
   "outputs": [],
   "source": []
  }
 ],
 "metadata": {
  "kernelspec": {
   "display_name": "Python 3",
   "language": "python",
   "name": "python3"
  },
  "language_info": {
   "codemirror_mode": {
    "name": "ipython",
    "version": 3
   },
   "file_extension": ".py",
   "mimetype": "text/x-python",
   "name": "python",
   "nbconvert_exporter": "python",
   "pygments_lexer": "ipython3",
   "version": "3.7.0"
  }
 },
 "nbformat": 4,
 "nbformat_minor": 2
}
